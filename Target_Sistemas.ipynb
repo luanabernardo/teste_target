{
  "nbformat": 4,
  "nbformat_minor": 0,
  "metadata": {
    "colab": {
      "provenance": []
    },
    "kernelspec": {
      "name": "python3",
      "display_name": "Python 3"
    },
    "language_info": {
      "name": "python"
    }
  },
  "cells": [
    {
      "cell_type": "code",
      "source": [
        "def is_fibonacci(num):\n",
        "    a, b = 0, 1\n",
        "    while b < num:\n",
        "        a, b = b, a + b\n",
        "    return b == num\n",
        "\n",
        "numero = int(input(\"Digite um número para verificar se pertence à sequência de Fibonacci: \"))\n",
        "\n",
        "if is_fibonacci(numero):\n",
        "    print(f\"{numero} pertence à sequência de Fibonacci.\")\n",
        "else:\n",
        "    print(f\"{numero} não pertence à sequência de Fibonacci.\")\n"
      ],
      "metadata": {
        "colab": {
          "base_uri": "https://localhost:8080/"
        },
        "id": "WpsOw_0em-bm",
        "outputId": "b21e4e2d-57e7-4857-8efe-28aca0786170"
      },
      "execution_count": 16,
      "outputs": [
        {
          "output_type": "stream",
          "name": "stdout",
          "text": [
            "Digite um número para verificar se pertence à sequência de Fibonacci: 67\n",
            "67 não pertence à sequência de Fibonacci.\n"
          ]
        }
      ]
    },
    {
      "cell_type": "code",
      "source": [
        "import json\n",
        "\n",
        "with open('/dados.json', 'r') as file:\n",
        "    faturamento = json.load(file)\n",
        "\n",
        "valores_faturamento = [registro[\"valor\"] for registro in faturamento]\n",
        "\n",
        "dias = len(valores_faturamento)\n",
        "soma = sum(valores_faturamento)\n",
        "media = soma / dias\n",
        "\n",
        "menor_valor = min(valores_faturamento)\n",
        "maior_valor = max(valores_faturamento)\n",
        "dias_acima_media = sum(1 for valor in valores_faturamento if valor > media)\n",
        "\n",
        "print(f\"Menor valor de faturamento: {menor_valor}\")\n",
        "print(f\"Maior valor de faturamento: {maior_valor}\")\n",
        "print(f\"Dias com faturamento acima da média: {dias_acima_media}\")"
      ],
      "metadata": {
        "colab": {
          "base_uri": "https://localhost:8080/"
        },
        "id": "mvsyv7_unMHh",
        "outputId": "bb920c34-f2a1-4d03-a2c2-35585311f04d"
      },
      "execution_count": 13,
      "outputs": [
        {
          "output_type": "stream",
          "name": "stdout",
          "text": [
            "Menor valor de faturamento: 0.0\n",
            "Maior valor de faturamento: 48924.2448\n",
            "Dias com faturamento acima da média: 12\n"
          ]
        }
      ]
    },
    {
      "cell_type": "code",
      "source": [
        "faturamento_estados = {\n",
        "    'SP': 67836.43,\n",
        "    'RJ': 36678.66,\n",
        "    'MG': 29229.88,\n",
        "    'ES': 27165.48,\n",
        "    'Outros': 19849.53\n",
        "}\n",
        "\n",
        "total_faturamento = sum(faturamento_estados.values())\n",
        "\n",
        "percentuais = {estado: (valor / total_faturamento) * 100 for estado, valor in faturamento_estados.items()}\n",
        "\n",
        "for estado, percentual in percentuais.items():\n",
        "    print(f\"{estado}: {percentual:.2f}%\")\n"
      ],
      "metadata": {
        "colab": {
          "base_uri": "https://localhost:8080/"
        },
        "id": "m6gyITXSobCC",
        "outputId": "b4a79f6e-c1df-4432-b290-871870046454"
      },
      "execution_count": 14,
      "outputs": [
        {
          "output_type": "stream",
          "name": "stdout",
          "text": [
            "SP: 37.53%\n",
            "RJ: 20.29%\n",
            "MG: 16.17%\n",
            "ES: 15.03%\n",
            "Outros: 10.98%\n"
          ]
        }
      ]
    },
    {
      "cell_type": "code",
      "source": [
        "def inverter_string(s):\n",
        "    return s[::-1]\n",
        "\n",
        "string_original = input(\"Digite uma string para inverter: \")\n",
        "string_invertida = inverter_string(string_original)\n",
        "print(\"String invertida:\", string_invertida)"
      ],
      "metadata": {
        "colab": {
          "base_uri": "https://localhost:8080/"
        },
        "id": "cuko0-wdogN-",
        "outputId": "d4657aab-f4da-440a-b132-aadead6c046e"
      },
      "execution_count": 15,
      "outputs": [
        {
          "output_type": "stream",
          "name": "stdout",
          "text": [
            "Digite uma string para inverter: 78\n",
            "String invertida: 87\n"
          ]
        }
      ]
    }
  ]
}